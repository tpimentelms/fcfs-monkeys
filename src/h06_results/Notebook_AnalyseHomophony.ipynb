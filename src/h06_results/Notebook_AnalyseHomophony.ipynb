{
 "cells": [
  {
   "cell_type": "code",
   "execution_count": 1,
   "id": "869b4c47",
   "metadata": {},
   "outputs": [
    {
     "name": "stderr",
     "output_type": "stream",
     "text": [
      "/home/tpimentel/anaconda3/envs/monkeys/lib/python3.9/site-packages/tqdm/auto.py:22: TqdmWarning: IProgress not found. Please update jupyter and ipywidgets. See https://ipywidgets.readthedocs.io/en/stable/user_install.html\n",
      "  from .autonotebook import tqdm as notebook_tqdm\n"
     ]
    }
   ],
   "source": [
    "import os\n",
    "import sys\n",
    "import pandas as pd\n",
    "import seaborn as sns\n",
    "import matplotlib.pyplot as plt\n",
    "import matplotlib as mpl\n",
    "from scipy import stats\n",
    "\n",
    "sys.path.insert(1, os.path.join(sys.path[0], '..'))\n",
    "from util import constants"
   ]
  },
  {
   "cell_type": "markdown",
   "id": "edd9cabd",
   "metadata": {},
   "source": [
    "# Get File Paths"
   ]
  },
  {
   "cell_type": "code",
   "execution_count": 2,
   "id": "74ffc0a2",
   "metadata": {},
   "outputs": [],
   "source": [
    "checkpoints_path = '../../checkpoint'\n",
    "\n",
    "def get_fname(language, seed):\n",
    "    results_path = os.path.join(checkpoints_path, language, 'seed_%02d' % seed)\n",
    "    return os.path.join(results_path, 'codes.tsv')"
   ]
  },
  {
   "cell_type": "markdown",
   "id": "b094d736",
   "metadata": {},
   "source": [
    "# Load Data"
   ]
  },
  {
   "cell_type": "code",
   "execution_count": 3,
   "id": "86ccd47d",
   "metadata": {},
   "outputs": [],
   "source": [
    "def rename_iid_columns(df, wordform_column, length_column):\n",
    "    df['iid'] = df[wordform_column]\n",
    "    df['iid_length'] = df[length_column]\n",
    "    del df['caplan']\n",
    "    del df['caplan_length']\n",
    "    \n",
    "    return df\n",
    "\n",
    "def compile_iid_results(df, compile_polysemy=False):\n",
    "    compile_columns = {'iid_length': 'mean',\n",
    "                       'frequencies': 'sum',\n",
    "                       'natural': 'count',}\n",
    "        \n",
    "    df_iid = df.groupby('iid').agg(compile_columns)\n",
    "    df_iid.rename({'natural': 'n_homophones'}, axis='columns', inplace=True)\n",
    "    return df_iid\n"
   ]
  },
  {
   "cell_type": "code",
   "execution_count": 4,
   "id": "f1fa5f0c",
   "metadata": {},
   "outputs": [],
   "source": [
    "def load_data(fname, wordform_column='caplan', length_column='caplan_length'):\n",
    "    # Get natural and fcfs code lengths\n",
    "    df_freq = pd.read_csv(fname, sep='\\t')\n",
    "    del df_freq['Unnamed: 0']\n",
    "    df_freq = rename_iid_columns(df_freq, wordform_column, length_column)\n",
    "    return compile_iid_results(df_freq)\n",
    "\n",
    "def get_homophony_rate(df):\n",
    "    return (df.n_homophones > 1).mean()\n",
    "\n",
    "def get_homophony_amount(df):\n",
    "    return df.n_homophones.mean() - 1\n",
    "\n",
    "def get_homophony_max(df):\n",
    "    return df.n_homophones.max() - 1"
   ]
  },
  {
   "cell_type": "markdown",
   "id": "ac847d3b",
   "metadata": {},
   "source": [
    "# Print number of Homophones in IID samples"
   ]
  },
  {
   "cell_type": "markdown",
   "id": "fecdad15",
   "metadata": {},
   "source": [
    "## Temperature 5"
   ]
  },
  {
   "cell_type": "code",
   "execution_count": 5,
   "id": "ae0d7213",
   "metadata": {},
   "outputs": [
    {
     "name": "stdout",
     "output_type": "stream",
     "text": [
      "en.\tRate: 1.65%\tAmmount: 8.79%\tMax: 178.00\n",
      "fi.\tRate: 1.52%\tAmmount: 8.56%\tMax: 358.00\n",
      "he.\tRate: 4.14%\tAmmount: 13.90%\tMax: 187.00\n",
      "id.\tRate: 1.82%\tAmmount: 10.13%\tMax: 203.00\n",
      "pt.\tRate: 1.39%\tAmmount: 6.55%\tMax: 151.00\n",
      "tr.\tRate: 1.54%\tAmmount: 8.12%\tMax: 223.00\n",
      "\n",
      "Overall.\tRate (%): 2.01%\t\tAmmount (%): 9.34%\tMax (not %): 216.67\n"
     ]
    }
   ],
   "source": [
    "homophony_rates = []\n",
    "homophony_ammounts = []\n",
    "homophony_maxs = []\n",
    "seed = 0\n",
    "\n",
    "for language in constants.LANGUAGES:\n",
    "    fname = get_fname(language, seed)\n",
    "    df = load_data(fname)\n",
    "    homophony_rate = get_homophony_rate(df)\n",
    "    homophony_ammount = get_homophony_amount(df)\n",
    "    homophony_max = get_homophony_max(df)\n",
    "    homophony_rates += [homophony_rate]\n",
    "    homophony_ammounts += [homophony_ammount]\n",
    "    homophony_maxs += [homophony_max]\n",
    "    \n",
    "    print(f'{language}.\\tRate: {homophony_rate*100:.2f}%\\tAmmount: '\n",
    "          f'{homophony_ammount*100:.2f}%\\tMax: {homophony_max:.2f}')\n",
    "\n",
    "print()\n",
    "print('Overall.' + \n",
    "      f'\\tRate (%): {100*sum(homophony_rates) / len(homophony_rates):.2f}%'\n",
    "      f'\\t\\tAmmount (%): {100*sum(homophony_ammounts) / len(homophony_ammounts):.2f}%'\n",
    "      f'\\tMax (not %): {sum(homophony_maxs) / len(homophony_maxs):.2f}')"
   ]
  },
  {
   "cell_type": "markdown",
   "id": "94892953",
   "metadata": {},
   "source": [
    "## Temperature .5"
   ]
  },
  {
   "cell_type": "code",
   "execution_count": 6,
   "id": "2f295676",
   "metadata": {},
   "outputs": [
    {
     "name": "stdout",
     "output_type": "stream",
     "text": [
      "en.\tRate: 28.18%\tAmmount: 148.41%\tMax: 300.00\n",
      "fi.\tRate: 32.32%\tAmmount: 293.27%\tMax: 866.00\n",
      "he.\tRate: 40.96%\tAmmount: 333.24%\tMax: 391.00\n",
      "id.\tRate: 30.08%\tAmmount: 138.83%\tMax: 466.00\n",
      "pt.\tRate: 32.49%\tAmmount: 246.52%\tMax: 443.00\n",
      "tr.\tRate: 34.65%\tAmmount: 296.03%\tMax: 800.00\n",
      "\n",
      "Overall.\tRate (%): 33.11%\tAmmount (%): 242.72%\tMax (not %): 544.33\n"
     ]
    }
   ],
   "source": [
    "homophony_rates = []\n",
    "homophony_ammounts = []\n",
    "homophony_maxs = []\n",
    "seed = 0\n",
    "\n",
    "for language in constants.LANGUAGES:\n",
    "    fname = get_fname(language, seed)\n",
    "    df = load_data(fname, wordform_column='caplan_low_temperature', length_column='caplan_low_temperature_length')\n",
    "    homophony_rate = get_homophony_rate(df)\n",
    "    homophony_ammount = get_homophony_amount(df)\n",
    "    homophony_max = get_homophony_max(df)\n",
    "    homophony_rates += [homophony_rate]\n",
    "    homophony_ammounts += [homophony_ammount]\n",
    "    homophony_maxs += [homophony_max]\n",
    "    \n",
    "    print(f'{language}.\\tRate: {homophony_rate*100:.2f}%\\tAmmount: '\n",
    "          f'{homophony_ammount*100:.2f}%\\tMax: {homophony_max:.2f}')\n",
    "\n",
    "print()\n",
    "print('Overall.' + \n",
    "      f'\\tRate (%): {100*sum(homophony_rates) / len(homophony_rates):.2f}%'\n",
    "      f'\\tAmmount (%): {100*sum(homophony_ammounts) / len(homophony_ammounts):.2f}%'\n",
    "      f'\\tMax (not %): {sum(homophony_maxs) / len(homophony_maxs):.2f}')"
   ]
  }
 ],
 "metadata": {
  "kernelspec": {
   "display_name": "Python 3 (ipykernel)",
   "language": "python",
   "name": "python3"
  },
  "language_info": {
   "codemirror_mode": {
    "name": "ipython",
    "version": 3
   },
   "file_extension": ".py",
   "mimetype": "text/x-python",
   "name": "python",
   "nbconvert_exporter": "python",
   "pygments_lexer": "ipython3",
   "version": "3.9.13"
  }
 },
 "nbformat": 4,
 "nbformat_minor": 5
}
